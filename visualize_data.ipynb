{
 "cells": [
  {
   "cell_type": "code",
   "execution_count": null,
   "metadata": {},
   "outputs": [
    {
     "ename": "",
     "evalue": "",
     "output_type": "error",
     "traceback": [
      "\u001b[1;31mRunning cells with 'Python 3.12.2' requires the ipykernel package.\n",
      "\u001b[1;31mRun the following command to install 'ipykernel' into the Python environment. \n",
      "\u001b[1;31mCommand: '/usr/local/bin/python3 -m pip install ipykernel -U --user --force-reinstall'"
     ]
    }
   ],
   "source": [
    "!pip3 install serial\n",
    "import serial\n",
    "import csv\n",
    "import time\n",
    "\n",
    "# Set up the serial connection (change the port as per your system)\n",
    "ser = serial.Serial('COM3', 9600)  # Use the correct port, e.g., 'COM3' or '/dev/ttyACM0'\n",
    "\n",
    "# Open CSV file for writing data\n",
    "with open('eeg_data.csv', 'w', newline='') as csvfile:\n",
    "    fieldnames = ['Timestamp (ms)', 'EEG Signal']  # CSV headers\n",
    "    writer = csv.DictWriter(csvfile, fieldnames=fieldnames)\n",
    "    \n",
    "    writer.writeheader()  # Write the header\n",
    "\n",
    "    print(\"Started recording data...\")\n",
    "\n",
    "    try:\n",
    "        while True:\n",
    "            # Read a line from the serial input\n",
    "            line = ser.readline().decode('utf-8').strip()\n",
    "\n",
    "            # Split the line into timestamp and signal value\n",
    "            timestamp, eeg_signal = line.split(',')\n",
    "\n",
    "            # Write to CSV\n",
    "            writer.writerow({'Timestamp (ms)': timestamp, 'EEG Signal': eeg_signal})\n",
    "\n",
    "            # Print to console (optional, can be removed)\n",
    "            print(f\"Timestamp: {timestamp}, EEG Signal: {eeg_signal}\")\n",
    "\n",
    "            time.sleep(0.01)  # Short delay for reading at the sampling rate\n",
    "\n",
    "    except KeyboardInterrupt:\n",
    "        print(\"Data collection stopped.\")\n",
    "        ser.close()  # Close the serial port when finished"
   ]
  },
  {
   "cell_type": "code",
   "execution_count": null,
   "metadata": {},
   "outputs": [],
   "source": []
  }
 ],
 "metadata": {
  "kernelspec": {
   "display_name": "Python 3",
   "language": "python",
   "name": "python3"
  },
  "language_info": {
   "codemirror_mode": {
    "name": "ipython",
    "version": 3
   },
   "file_extension": ".py",
   "mimetype": "text/x-python",
   "name": "python",
   "nbconvert_exporter": "python",
   "pygments_lexer": "ipython3",
   "version": "3.12.2"
  }
 },
 "nbformat": 4,
 "nbformat_minor": 2
}
